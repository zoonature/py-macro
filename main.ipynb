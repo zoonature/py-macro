{
 "cells": [
  {
   "cell_type": "code",
   "execution_count": null,
   "metadata": {},
   "outputs": [],
   "source": [
    "import pyautogui\n",
    "import time"
   ]
  },
  {
   "cell_type": "code",
   "execution_count": null,
   "metadata": {},
   "outputs": [],
   "source": [
    "pyautogui.PAUSE = 1\n",
    "pyautogui.FAILSAFE = True\n",
    "cnt = 0\n",
    "\n",
    "while True:\n",
    "\n",
    "    pyautogui.click(-1466,849, button = \"left\", clicks = 1) \n",
    "    pyautogui.hotkey('ctrl', 'c')  \n",
    "    time.sleep(1)\n",
    "\n",
    "    pyautogui.click(-1427,682, button = \"left\", clicks = 1)\n",
    "    pyautogui.hotkey('ctrl', 'v')  \n",
    "    time.sleep(5)\n",
    "    \n",
    "    pyautogui.click(-1303,710, button = \"left\", clicks = 1)\n",
    "\n",
    "    pyautogui.click(-1355,797, button = \"left\", clicks = 1)\n",
    "    pyautogui.press('down')\n",
    "    pyautogui.press('enter')\n",
    "    time.sleep(1)\n",
    "\n",
    "    cnt +=1\n",
    "    if (cnt>=101):\n",
    "        pyautogui.hotkey('ctrl', 's')  \n",
    "        time.sleep(5)\n",
    "    if (cnt>=250):\n",
    "        break"
   ]
  },
  {
   "cell_type": "code",
   "execution_count": null,
   "metadata": {},
   "outputs": [],
   "source": []
  }
 ],
 "metadata": {
  "kernelspec": {
   "display_name": "Python 3.8.0 ('pytorch_training')",
   "language": "python",
   "name": "python3"
  },
  "language_info": {
   "codemirror_mode": {
    "name": "ipython",
    "version": 3
   },
   "file_extension": ".py",
   "mimetype": "text/x-python",
   "name": "python",
   "nbconvert_exporter": "python",
   "pygments_lexer": "ipython3",
   "version": "3.8.0"
  },
  "orig_nbformat": 4,
  "vscode": {
   "interpreter": {
    "hash": "d32fc28d6d082df623b1815656ede4687235524546d94688fdba209c18ffd4d6"
   }
  }
 },
 "nbformat": 4,
 "nbformat_minor": 2
}
